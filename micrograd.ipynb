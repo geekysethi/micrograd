{
 "cells": [
  {
   "cell_type": "code",
   "execution_count": 1,
   "metadata": {
    "id": "oBUxYLQHueid"
   },
   "outputs": [],
   "source": [
    "import numpy as np\n",
    "from matplotlib import pyplot as plt\n",
    "import math\n",
    "from graphviz import Digraph\n",
    "%matplotlib inline"
   ]
  },
  {
   "cell_type": "code",
   "execution_count": 3,
   "metadata": {
    "colab": {
     "base_uri": "https://localhost:8080/"
    },
    "id": "_ALla7Is2YI-",
    "outputId": "5634f55f-79c8-421a-bb7f-58b6808eb9bf"
   },
   "outputs": [
    {
     "name": "stdout",
     "output_type": "stream",
     "text": [
      "[-5.   -4.75 -4.5  -4.25 -4.   -3.75 -3.5  -3.25 -3.   -2.75 -2.5  -2.25\n",
      " -2.   -1.75 -1.5  -1.25 -1.   -0.75 -0.5  -0.25  0.    0.25  0.5   0.75\n",
      "  1.    1.25  1.5   1.75  2.    2.25  2.5   2.75  3.    3.25  3.5   3.75\n",
      "  4.    4.25  4.5   4.75]\n"
     ]
    }
   ],
   "source": [
    "xs = np.arange(-5,5,.25)\n",
    "ys = f(xs)\n",
    "\n",
    "\n",
    "print(xs)"
   ]
  },
  {
   "cell_type": "code",
   "execution_count": 4,
   "metadata": {
    "colab": {
     "base_uri": "https://localhost:8080/",
     "height": 447
    },
    "id": "UK0WjWno2mWq",
    "outputId": "5be6b0ea-ad94-456b-c634-887d6acb92db"
   },
   "outputs": [
    {
     "data": {
      "text/plain": [
       "[<matplotlib.lines.Line2D at 0x78aeb8530af0>]"
      ]
     },
     "execution_count": 4,
     "metadata": {},
     "output_type": "execute_result"
    },
    {
     "data": {
      "image/png": "[encoded data removed]",
      "text/plain": [
       "<Figure size 640x480 with 1 Axes>"
      ]
     },
     "metadata": {},
     "output_type": "display_data"
    }
   ],
   "source": [
    "plt.plot(xs,ys)"
   ]
  },
  {
   "cell_type": "code",
   "execution_count": 5,
   "metadata": {
    "id": "jzwojw4zY0TL"
   },
   "outputs": [],
   "source": [
    "def draw_nn(root):\n",
    "\n",
    "  def trace(root):\n",
    "    edges = set()\n",
    "    nodes  =set ()\n",
    "\n",
    "    def build(root):\n",
    "      nodes.add(root)\n",
    "      for child in root._prev:\n",
    "        edges.add((child,root))\n",
    "        build(child)\n",
    "\n",
    "    build(root)\n",
    "\n",
    "    return nodes,edges\n",
    "\n",
    "\n",
    "  nodes, edges = trace(root)\n",
    "\n",
    "  dot = Digraph(format = \"svg\",graph_attr={\"rankdir\":\"LR\"} )\n",
    "\n",
    "\n",
    "  for n in nodes:\n",
    "\n",
    "    uid = str(id(n))\n",
    "\n",
    "    dot.node(name = uid,label = \"{%s | data %.4f |grad %.4f}\"%(n.label,n.data,n.grad),shape = \"record\")\n",
    "\n",
    "\n",
    "    if(n._op!=''):\n",
    "\n",
    "      dot.node(name = uid + str(id(n._op)),label = n._op)\n",
    "      dot.edge(uid+str(id(n._op)),uid)\n",
    "\n",
    "\n",
    "  for n1,n2 in edges:\n",
    "      uid1 = str(id(n1))\n",
    "      uid2 = str(id(n2))\n",
    "      dot.edge(uid1,uid2+str(id(n2._op)))\n",
    "\n",
    "  return dot\n"
   ]
  },
  {
   "cell_type": "code",
   "execution_count": 33,
   "metadata": {
    "id": "1L-Ro-Ql2pdA"
   },
   "outputs": [],
   "source": [
    "class Value():\n",
    "\n",
    "  def __init__(self,data,_prev=(),_op='',label=''):\n",
    "\n",
    "    self.data = data\n",
    "    self._prev = _prev\n",
    "    self._op = _op\n",
    "    self.label = label\n",
    "    self.grad = 0.0\n",
    "    self._backward = lambda: None\n",
    "\n",
    "  def __repr__(self):\n",
    "\n",
    "    return(f'Value(data={self.data,self.label})')\n",
    "\n",
    "  def __add__(self,other):\n",
    "\n",
    "    other =  other if isinstance(other,Value) else (Value(other))\n",
    "    out = Value(self.data + other.data,(self,other),\"+\")\n",
    "\n",
    "    def _backward():\n",
    "\n",
    "      self.grad += out.grad\n",
    "      other.grad += out.grad\n",
    "\n",
    "    out._backward = _backward\n",
    "\n",
    "    return out\n",
    "\n",
    "  def __radd__(self,other):\n",
    "\n",
    "    return self + other\n",
    "\n",
    "\n",
    "  def __sub__(self,other):\n",
    "\n",
    "    other = other if isinstance(other,Value) else (Value(other))\n",
    "\n",
    "    out = Value(self.data - other.data,(self,other),\"-\")\n",
    "    def _backward():\n",
    "\n",
    "      self.grad += out.grad\n",
    "      other.grad += out.grad\n",
    "\n",
    "    out._backward = _backward\n",
    "\n",
    "    return out\n",
    "\n",
    "  def __rsub__(self,other):\n",
    "\n",
    "    return self - other\n",
    "\n",
    "\n",
    "\n",
    "  def __mul__(self,other):\n",
    "\n",
    "    other =  other if isinstance(other,Value) else (Value(other))\n",
    "    out = Value(self.data * other.data,(self,other),\"*\")\n",
    "\n",
    "    def _backward():\n",
    "\n",
    "      self.grad +=other.data*out.grad\n",
    "      other.grad +=self.data*out.grad\n",
    "\n",
    "    out._backward = _backward\n",
    "\n",
    "    return out\n",
    "\n",
    "  def __rmul__(self,other):\n",
    "\n",
    "    return self*other\n",
    "\n",
    "\n",
    "  def exp(self):\n",
    "\n",
    "    out = Value((math.exp(self.data)),(self,),\"exp\")\n",
    "\n",
    "    def _backward():\n",
    "      self.grad += out.data*out.grad\n",
    "\n",
    "    out._backward = _backward\n",
    "\n",
    "    return out\n",
    "\n",
    "  def __neg__(self):\n",
    "\n",
    "    out = Value(-self.data)\n",
    "    out.label = \"-\"+self.label\n",
    "\n",
    "    def _backward():\n",
    "\n",
    "      self.grad += self.grad\n",
    "\n",
    "    out._backward = _backward\n",
    "    return out\n",
    "\n",
    "\n",
    "  def __pow__(self,other):\n",
    "\n",
    "    out = Value((self.data**other),(self,), f\"**{other}\")\n",
    "\n",
    "    def _backward():\n",
    "      self.grad += other * (self.data**(other-1))*out.grad\n",
    "\n",
    "    out._backward = _backward\n",
    "\n",
    "    return out\n",
    "\n",
    "  def __truediv__(self,other):\n",
    "\n",
    "    out = self * other**-1\n",
    "    out.label = \"/\"\n",
    "\n",
    "    return out\n",
    "\n",
    "\n",
    "  def tanh(self):\n",
    "\n",
    "    x = self.data\n",
    "\n",
    "    t = (math.exp(2*x) - 1)/ (math.exp(2*x) + 1)\n",
    "    out = Value(t,(self,),\"tanh\")\n",
    "\n",
    "    def _backward():\n",
    "\n",
    "      self.grad += (1-t**2)*out.grad\n",
    "\n",
    "    self._backward = _backward\n",
    "    return out\n",
    "\n",
    "  def relu(self):\n",
    "\n",
    "    out = Value(max(0,self.data),(self,),\"relu\")\n",
    "\n",
    "    def _backward():\n",
    "\n",
    "        if(self.data<0):\n",
    "          current_grad = 0\n",
    "        else:\n",
    "          current_grad = 1\n",
    "\n",
    "\n",
    "        self.grad +=current_grad*out.grad\n",
    "\n",
    "    self._backward = _backward\n",
    "    return out\n",
    "\n",
    "    pass\n",
    "\n",
    "  def backward(self):\n",
    "\n",
    "    self.grad = 1.0\n",
    "    visited = set()\n",
    "\n",
    "    def topological_sort(root):\n",
    "\n",
    "\n",
    "      if root not in visited:\n",
    "        root._backward()\n",
    "        for child in root._prev:\n",
    "          topological_sort(child)\n",
    "\n",
    "\n",
    "\n",
    "    topological_sort(self)\n"
   ]
  },
  {
   "cell_type": "code",
   "execution_count": 34,
   "metadata": {
    "id": "5MXQlhUqwvQI"
   },
   "outputs": [],
   "source": [
    "a = Value(-2,label =\"a\")\n",
    "b = Value(7,label = \"b\")\n",
    "c = Value(4,label = \"c\")"
   ]
  },
  {
   "cell_type": "code",
   "execution_count": 35,
   "metadata": {
    "id": "1UMoP6np4eIe"
   },
   "outputs": [],
   "source": [
    "temp = a.relu()\n",
    "temp.backward()\n",
    "# print(temp)"
   ]
  },
  {
   "cell_type": "code",
   "execution_count": 36,
   "metadata": {
    "colab": {
     "base_uri": "https://localhost:8080/",
     "height": 81
    },
    "id": "YQW33B6ywJid",
    "outputId": "84f29b35-d9da-4a6b-f82d-081e9ae8c4b2"
   },
   "outputs": [
    {
     "data": {
      "image/svg+xml": [
       "<?xml version=\"1.0\" encoding=\"UTF-8\" standalone=\"no\"?>\n",
       "<!DOCTYPE svg PUBLIC \"-//W3C//DTD SVG 1.1//EN\"\n",
       " \"http://www.w3.org/Graphics/SVG/1.1/DTD/svg11.dtd\">\n",
       "<!-- Generated by graphviz version 2.43.0 (0)\n",
       " -->\n",
       "<!-- Title: %3 Pages: 1 -->\n",
       "<svg width=\"506pt\" height=\"45pt\"\n",
       " viewBox=\"0.00 0.00 506.00 45.00\" xmlns=\"http://www.w3.org/2000/svg\" xmlns:xlink=\"http://www.w3.org/1999/xlink\">\n",
       "<g id=\"graph0\" class=\"graph\" transform=\"scale(1 1) rotate(0) translate(4 41)\">\n",
       "<title>%3</title>\n",
       "<polygon fill=\"white\" stroke=\"transparent\" points=\"-4,4 -4,-41 502,-41 502,4 -4,4\"/>\n",
       "<!-- 132691810954656 -->\n",
       "<g id=\"node1\" class=\"node\">\n",
       "<title>132691810954656</title>\n",
       "<polygon fill=\"none\" stroke=\"black\" points=\"0,-0.5 0,-36.5 190,-36.5 190,-0.5 0,-0.5\"/>\n",
       "<text text-anchor=\"middle\" x=\"11.5\" y=\"-14.8\" font-family=\"Times,serif\" font-size=\"14.00\">a</text>\n",
       "<polyline fill=\"none\" stroke=\"black\" points=\"23,-0.5 23,-36.5 \"/>\n",
       "<text text-anchor=\"middle\" x=\"65.5\" y=\"-14.8\" font-family=\"Times,serif\" font-size=\"14.00\">data &#45;2.0000</text>\n",
       "<polyline fill=\"none\" stroke=\"black\" points=\"108,-0.5 108,-36.5 \"/>\n",
       "<text text-anchor=\"middle\" x=\"149\" y=\"-14.8\" font-family=\"Times,serif\" font-size=\"14.00\">grad 0.0000</text>\n",
       "</g>\n",
       "<!-- 132691810944192132691812339824 -->\n",
       "<g id=\"node3\" class=\"node\">\n",
       "<title>132691810944192132691812339824</title>\n",
       "<ellipse fill=\"none\" stroke=\"black\" cx=\"253\" cy=\"-18.5\" rx=\"27\" ry=\"18\"/>\n",
       "<text text-anchor=\"middle\" x=\"253\" y=\"-14.8\" font-family=\"Times,serif\" font-size=\"14.00\">relu</text>\n",
       "</g>\n",
       "<!-- 132691810954656&#45;&gt;132691810944192132691812339824 -->\n",
       "<g id=\"edge2\" class=\"edge\">\n",
       "<title>132691810954656&#45;&gt;132691810944192132691812339824</title>\n",
       "<path fill=\"none\" stroke=\"black\" d=\"M190.34,-18.5C199.26,-18.5 207.87,-18.5 215.69,-18.5\"/>\n",
       "<polygon fill=\"black\" stroke=\"black\" points=\"215.82,-22 225.82,-18.5 215.82,-15 215.82,-22\"/>\n",
       "</g>\n",
       "<!-- 132691810944192 -->\n",
       "<g id=\"node2\" class=\"node\">\n",
       "<title>132691810944192</title>\n",
       "<polygon fill=\"none\" stroke=\"black\" points=\"316,-0.5 316,-36.5 498,-36.5 498,-0.5 316,-0.5\"/>\n",
       "<text text-anchor=\"middle\" x=\"326\" y=\"-14.8\" font-family=\"Times,serif\" font-size=\"14.00\"> </text>\n",
       "<polyline fill=\"none\" stroke=\"black\" points=\"336,-0.5 336,-36.5 \"/>\n",
       "<text text-anchor=\"middle\" x=\"376\" y=\"-14.8\" font-family=\"Times,serif\" font-size=\"14.00\">data 0.0000</text>\n",
       "<polyline fill=\"none\" stroke=\"black\" points=\"416,-0.5 416,-36.5 \"/>\n",
       "<text text-anchor=\"middle\" x=\"457\" y=\"-14.8\" font-family=\"Times,serif\" font-size=\"14.00\">grad 1.0000</text>\n",
       "</g>\n",
       "<!-- 132691810944192132691812339824&#45;&gt;132691810944192 -->\n",
       "<g id=\"edge1\" class=\"edge\">\n",
       "<title>132691810944192132691812339824&#45;&gt;132691810944192</title>\n",
       "<path fill=\"none\" stroke=\"black\" d=\"M280.13,-18.5C287.67,-18.5 296.39,-18.5 305.64,-18.5\"/>\n",
       "<polygon fill=\"black\" stroke=\"black\" points=\"305.87,-22 315.87,-18.5 305.87,-15 305.87,-22\"/>\n",
       "</g>\n",
       "</g>\n",
       "</svg>\n"
      ],
      "text/plain": [
       "<graphviz.graphs.Digraph at 0x78aeb8419510>"
      ]
     },
     "execution_count": 36,
     "metadata": {},
     "output_type": "execute_result"
    }
   ],
   "source": [
    "draw_nn(temp)"
   ]
  },
  {
   "cell_type": "code",
   "execution_count": 37,
   "metadata": {
    "id": "krb5QLa6wJsz"
   },
   "outputs": [],
   "source": [
    "xx = a**2"
   ]
  },
  {
   "cell_type": "code",
   "execution_count": 38,
   "metadata": {
    "colab": {
     "base_uri": "https://localhost:8080/"
    },
    "id": "uV_WtNUI6pzs",
    "outputId": "c2d1e37f-f066-4c1e-92b2-d9c41985e88b"
   },
   "outputs": [
    {
     "data": {
      "text/plain": [
       "Value(data=(4, ''))"
      ]
     },
     "execution_count": 38,
     "metadata": {},
     "output_type": "execute_result"
    }
   ],
   "source": [
    "xx"
   ]
  },
  {
   "cell_type": "code",
   "execution_count": 39,
   "metadata": {
    "colab": {
     "base_uri": "https://localhost:8080/",
     "height": 81
    },
    "id": "1fyr7QlZ6Kb_",
    "outputId": "80560bbf-d395-45d8-ef2b-74f76d695daa"
   },
   "outputs": [
    {
     "data": {
      "image/svg+xml": [
       "<?xml version=\"1.0\" encoding=\"UTF-8\" standalone=\"no\"?>\n",
       "<!DOCTYPE svg PUBLIC \"-//W3C//DTD SVG 1.1//EN\"\n",
       " \"http://www.w3.org/Graphics/SVG/1.1/DTD/svg11.dtd\">\n",
       "<!-- Generated by graphviz version 2.43.0 (0)\n",
       " -->\n",
       "<!-- Title: %3 Pages: 1 -->\n",
       "<svg width=\"506pt\" height=\"45pt\"\n",
       " viewBox=\"0.00 0.00 506.00 45.00\" xmlns=\"http://www.w3.org/2000/svg\" xmlns:xlink=\"http://www.w3.org/1999/xlink\">\n",
       "<g id=\"graph0\" class=\"graph\" transform=\"scale(1 1) rotate(0) translate(4 41)\">\n",
       "<title>%3</title>\n",
       "<polygon fill=\"white\" stroke=\"transparent\" points=\"-4,4 -4,-41 502,-41 502,4 -4,4\"/>\n",
       "<!-- 132691810954656 -->\n",
       "<g id=\"node1\" class=\"node\">\n",
       "<title>132691810954656</title>\n",
       "<polygon fill=\"none\" stroke=\"black\" points=\"0,-0.5 0,-36.5 190,-36.5 190,-0.5 0,-0.5\"/>\n",
       "<text text-anchor=\"middle\" x=\"11.5\" y=\"-14.8\" font-family=\"Times,serif\" font-size=\"14.00\">a</text>\n",
       "<polyline fill=\"none\" stroke=\"black\" points=\"23,-0.5 23,-36.5 \"/>\n",
       "<text text-anchor=\"middle\" x=\"65.5\" y=\"-14.8\" font-family=\"Times,serif\" font-size=\"14.00\">data &#45;2.0000</text>\n",
       "<polyline fill=\"none\" stroke=\"black\" points=\"108,-0.5 108,-36.5 \"/>\n",
       "<text text-anchor=\"middle\" x=\"149\" y=\"-14.8\" font-family=\"Times,serif\" font-size=\"14.00\">grad 0.0000</text>\n",
       "</g>\n",
       "<!-- 132691810953504132691278206256 -->\n",
       "<g id=\"node3\" class=\"node\">\n",
       "<title>132691810953504132691278206256</title>\n",
       "<ellipse fill=\"none\" stroke=\"black\" cx=\"253\" cy=\"-18.5\" rx=\"27\" ry=\"18\"/>\n",
       "<text text-anchor=\"middle\" x=\"253\" y=\"-14.8\" font-family=\"Times,serif\" font-size=\"14.00\">**2</text>\n",
       "</g>\n",
       "<!-- 132691810954656&#45;&gt;132691810953504132691278206256 -->\n",
       "<g id=\"edge2\" class=\"edge\">\n",
       "<title>132691810954656&#45;&gt;132691810953504132691278206256</title>\n",
       "<path fill=\"none\" stroke=\"black\" d=\"M190.34,-18.5C199.26,-18.5 207.87,-18.5 215.69,-18.5\"/>\n",
       "<polygon fill=\"black\" stroke=\"black\" points=\"215.82,-22 225.82,-18.5 215.82,-15 215.82,-22\"/>\n",
       "</g>\n",
       "<!-- 132691810953504 -->\n",
       "<g id=\"node2\" class=\"node\">\n",
       "<title>132691810953504</title>\n",
       "<polygon fill=\"none\" stroke=\"black\" points=\"316,-0.5 316,-36.5 498,-36.5 498,-0.5 316,-0.5\"/>\n",
       "<text text-anchor=\"middle\" x=\"326\" y=\"-14.8\" font-family=\"Times,serif\" font-size=\"14.00\"> </text>\n",
       "<polyline fill=\"none\" stroke=\"black\" points=\"336,-0.5 336,-36.5 \"/>\n",
       "<text text-anchor=\"middle\" x=\"376\" y=\"-14.8\" font-family=\"Times,serif\" font-size=\"14.00\">data 4.0000</text>\n",
       "<polyline fill=\"none\" stroke=\"black\" points=\"416,-0.5 416,-36.5 \"/>\n",
       "<text text-anchor=\"middle\" x=\"457\" y=\"-14.8\" font-family=\"Times,serif\" font-size=\"14.00\">grad 0.0000</text>\n",
       "</g>\n",
       "<!-- 132691810953504132691278206256&#45;&gt;132691810953504 -->\n",
       "<g id=\"edge1\" class=\"edge\">\n",
       "<title>132691810953504132691278206256&#45;&gt;132691810953504</title>\n",
       "<path fill=\"none\" stroke=\"black\" d=\"M280.13,-18.5C287.67,-18.5 296.39,-18.5 305.64,-18.5\"/>\n",
       "<polygon fill=\"black\" stroke=\"black\" points=\"305.87,-22 315.87,-18.5 305.87,-15 305.87,-22\"/>\n",
       "</g>\n",
       "</g>\n",
       "</svg>\n"
      ],
      "text/plain": [
       "<graphviz.graphs.Digraph at 0x78aeb8418bb0>"
      ]
     },
     "execution_count": 39,
     "metadata": {},
     "output_type": "execute_result"
    }
   ],
   "source": [
    "draw_nn(xx)"
   ]
  },
  {
   "cell_type": "code",
   "execution_count": 40,
   "metadata": {
    "colab": {
     "base_uri": "https://localhost:8080/"
    },
    "id": "W_Oes5cw6ldG",
    "outputId": "b7c5eb54-0063-4b0d-86bb-7878ec5ff285"
   },
   "outputs": [
    {
     "data": {
      "text/plain": [
       "(Value(data=(-2, 'a')),)"
      ]
     },
     "execution_count": 40,
     "metadata": {},
     "output_type": "execute_result"
    }
   ],
   "source": [
    "xx._prev"
   ]
  },
  {
   "cell_type": "code",
   "execution_count": 41,
   "metadata": {
    "id": "ChByqZcfuMuf"
   },
   "outputs": [],
   "source": [
    "k = a-2"
   ]
  },
  {
   "cell_type": "code",
   "execution_count": 42,
   "metadata": {
    "id": "TwWG7HT0pTZn"
   },
   "outputs": [],
   "source": [
    "l = -a +b"
   ]
  },
  {
   "cell_type": "code",
   "execution_count": 43,
   "metadata": {
    "id": "P6AFFgkF_81y"
   },
   "outputs": [],
   "source": [
    "l.backward()"
   ]
  },
  {
   "cell_type": "code",
   "execution_count": 44,
   "metadata": {
    "colab": {
     "base_uri": "https://localhost:8080/",
     "height": 155
    },
    "id": "S5EAkgQyYf-T",
    "outputId": "0e4af8f0-db20-418f-8811-df8801e68179"
   },
   "outputs": [
    {
     "data": {
      "image/svg+xml": [
       "<?xml version=\"1.0\" encoding=\"UTF-8\" standalone=\"no\"?>\n",
       "<!DOCTYPE svg PUBLIC \"-//W3C//DTD SVG 1.1//EN\"\n",
       " \"http://www.w3.org/Graphics/SVG/1.1/DTD/svg11.dtd\">\n",
       "<!-- Generated by graphviz version 2.43.0 (0)\n",
       " -->\n",
       "<!-- Title: %3 Pages: 1 -->\n",
       "<svg width=\"505pt\" height=\"100pt\"\n",
       " viewBox=\"0.00 0.00 505.00 100.00\" xmlns=\"http://www.w3.org/2000/svg\" xmlns:xlink=\"http://www.w3.org/1999/xlink\">\n",
       "<g id=\"graph0\" class=\"graph\" transform=\"scale(1 1) rotate(0) translate(4 96)\">\n",
       "<title>%3</title>\n",
       "<polygon fill=\"white\" stroke=\"transparent\" points=\"-4,4 -4,-96 501,-96 501,4 -4,4\"/>\n",
       "<!-- 132691810946496 -->\n",
       "<g id=\"node1\" class=\"node\">\n",
       "<title>132691810946496</title>\n",
       "<polygon fill=\"none\" stroke=\"black\" points=\"315,-27.5 315,-63.5 497,-63.5 497,-27.5 315,-27.5\"/>\n",
       "<text text-anchor=\"middle\" x=\"325\" y=\"-41.8\" font-family=\"Times,serif\" font-size=\"14.00\"> </text>\n",
       "<polyline fill=\"none\" stroke=\"black\" points=\"335,-27.5 335,-63.5 \"/>\n",
       "<text text-anchor=\"middle\" x=\"375\" y=\"-41.8\" font-family=\"Times,serif\" font-size=\"14.00\">data 9.0000</text>\n",
       "<polyline fill=\"none\" stroke=\"black\" points=\"415,-27.5 415,-63.5 \"/>\n",
       "<text text-anchor=\"middle\" x=\"456\" y=\"-41.8\" font-family=\"Times,serif\" font-size=\"14.00\">grad 1.0000</text>\n",
       "</g>\n",
       "<!-- 132691810946496132692360574896 -->\n",
       "<g id=\"node2\" class=\"node\">\n",
       "<title>132691810946496132692360574896</title>\n",
       "<ellipse fill=\"none\" stroke=\"black\" cx=\"252\" cy=\"-45.5\" rx=\"27\" ry=\"18\"/>\n",
       "<text text-anchor=\"middle\" x=\"252\" y=\"-41.8\" font-family=\"Times,serif\" font-size=\"14.00\">+</text>\n",
       "</g>\n",
       "<!-- 132691810946496132692360574896&#45;&gt;132691810946496 -->\n",
       "<g id=\"edge1\" class=\"edge\">\n",
       "<title>132691810946496132692360574896&#45;&gt;132691810946496</title>\n",
       "<path fill=\"none\" stroke=\"black\" d=\"M279.13,-45.5C286.67,-45.5 295.39,-45.5 304.64,-45.5\"/>\n",
       "<polygon fill=\"black\" stroke=\"black\" points=\"304.87,-49 314.87,-45.5 304.87,-42 304.87,-49\"/>\n",
       "</g>\n",
       "<!-- 132691810943328 -->\n",
       "<g id=\"node3\" class=\"node\">\n",
       "<title>132691810943328</title>\n",
       "<polygon fill=\"none\" stroke=\"black\" points=\"0,-55.5 0,-91.5 189,-91.5 189,-55.5 0,-55.5\"/>\n",
       "<text text-anchor=\"middle\" x=\"13.5\" y=\"-69.8\" font-family=\"Times,serif\" font-size=\"14.00\">&#45;a</text>\n",
       "<polyline fill=\"none\" stroke=\"black\" points=\"27,-55.5 27,-91.5 \"/>\n",
       "<text text-anchor=\"middle\" x=\"67\" y=\"-69.8\" font-family=\"Times,serif\" font-size=\"14.00\">data 2.0000</text>\n",
       "<polyline fill=\"none\" stroke=\"black\" points=\"107,-55.5 107,-91.5 \"/>\n",
       "<text text-anchor=\"middle\" x=\"148\" y=\"-69.8\" font-family=\"Times,serif\" font-size=\"14.00\">grad 1.0000</text>\n",
       "</g>\n",
       "<!-- 132691810943328&#45;&gt;132691810946496132692360574896 -->\n",
       "<g id=\"edge3\" class=\"edge\">\n",
       "<title>132691810943328&#45;&gt;132691810946496132692360574896</title>\n",
       "<path fill=\"none\" stroke=\"black\" d=\"M189.1,-56.65C198.4,-54.97 207.38,-53.35 215.49,-51.89\"/>\n",
       "<polygon fill=\"black\" stroke=\"black\" points=\"216.37,-55.29 225.59,-50.07 215.13,-48.4 216.37,-55.29\"/>\n",
       "</g>\n",
       "<!-- 132691810948464 -->\n",
       "<g id=\"node4\" class=\"node\">\n",
       "<title>132691810948464</title>\n",
       "<polygon fill=\"none\" stroke=\"black\" points=\"2,-0.5 2,-36.5 187,-36.5 187,-0.5 2,-0.5\"/>\n",
       "<text text-anchor=\"middle\" x=\"13.5\" y=\"-14.8\" font-family=\"Times,serif\" font-size=\"14.00\">b</text>\n",
       "<polyline fill=\"none\" stroke=\"black\" points=\"25,-0.5 25,-36.5 \"/>\n",
       "<text text-anchor=\"middle\" x=\"65\" y=\"-14.8\" font-family=\"Times,serif\" font-size=\"14.00\">data 7.0000</text>\n",
       "<polyline fill=\"none\" stroke=\"black\" points=\"105,-0.5 105,-36.5 \"/>\n",
       "<text text-anchor=\"middle\" x=\"146\" y=\"-14.8\" font-family=\"Times,serif\" font-size=\"14.00\">grad 1.0000</text>\n",
       "</g>\n",
       "<!-- 132691810948464&#45;&gt;132691810946496132692360574896 -->\n",
       "<g id=\"edge2\" class=\"edge\">\n",
       "<title>132691810948464&#45;&gt;132691810946496132692360574896</title>\n",
       "<path fill=\"none\" stroke=\"black\" d=\"M187.3,-34.44C197.31,-36.18 206.99,-37.86 215.66,-39.36\"/>\n",
       "<polygon fill=\"black\" stroke=\"black\" points=\"215.23,-42.84 225.69,-41.1 216.43,-35.95 215.23,-42.84\"/>\n",
       "</g>\n",
       "</g>\n",
       "</svg>\n"
      ],
      "text/plain": [
       "<graphviz.graphs.Digraph at 0x78aeb8418880>"
      ]
     },
     "execution_count": 44,
     "metadata": {},
     "output_type": "execute_result"
    }
   ],
   "source": [
    "draw_nn(l)"
   ]
  },
  {
   "cell_type": "code",
   "execution_count": 45,
   "metadata": {
    "id": "Xz7gyEhUx5b3"
   },
   "outputs": [],
   "source": [
    "d = a + b\n",
    "d.label = \"d\"\n",
    "h = d*c\n",
    "h.label = \"h\""
   ]
  },
  {
   "cell_type": "code",
   "execution_count": 46,
   "metadata": {
    "colab": {
     "base_uri": "https://localhost:8080/",
     "height": 191
    },
    "id": "YuNjiHD_iHAv",
    "outputId": "3e145857-8f24-4a02-d6b9-d7e39580be05"
   },
   "outputs": [
    {
     "data": {
      "image/svg+xml": [
       "<?xml version=\"1.0\" encoding=\"UTF-8\" standalone=\"no\"?>\n",
       "<!DOCTYPE svg PUBLIC \"-//W3C//DTD SVG 1.1//EN\"\n",
       " \"http://www.w3.org/Graphics/SVG/1.1/DTD/svg11.dtd\">\n",
       "<!-- Generated by graphviz version 2.43.0 (0)\n",
       " -->\n",
       "<!-- Title: %3 Pages: 1 -->\n",
       "<svg width=\"827pt\" height=\"127pt\"\n",
       " viewBox=\"0.00 0.00 827.00 127.00\" xmlns=\"http://www.w3.org/2000/svg\" xmlns:xlink=\"http://www.w3.org/1999/xlink\">\n",
       "<g id=\"graph0\" class=\"graph\" transform=\"scale(1 1) rotate(0) translate(4 123)\">\n",
       "<title>%3</title>\n",
       "<polygon fill=\"white\" stroke=\"transparent\" points=\"-4,4 -4,-123 823,-123 823,4 -4,4\"/>\n",
       "<!-- 132691810958976 -->\n",
       "<g id=\"node1\" class=\"node\">\n",
       "<title>132691810958976</title>\n",
       "<polygon fill=\"none\" stroke=\"black\" points=\"316,-27.5 316,-63.5 501,-63.5 501,-27.5 316,-27.5\"/>\n",
       "<text text-anchor=\"middle\" x=\"327.5\" y=\"-41.8\" font-family=\"Times,serif\" font-size=\"14.00\">d</text>\n",
       "<polyline fill=\"none\" stroke=\"black\" points=\"339,-27.5 339,-63.5 \"/>\n",
       "<text text-anchor=\"middle\" x=\"379\" y=\"-41.8\" font-family=\"Times,serif\" font-size=\"14.00\">data 5.0000</text>\n",
       "<polyline fill=\"none\" stroke=\"black\" points=\"419,-27.5 419,-63.5 \"/>\n",
       "<text text-anchor=\"middle\" x=\"460\" y=\"-41.8\" font-family=\"Times,serif\" font-size=\"14.00\">grad 0.0000</text>\n",
       "</g>\n",
       "<!-- 132691810944720132692362267248 -->\n",
       "<g id=\"node4\" class=\"node\">\n",
       "<title>132691810944720132692362267248</title>\n",
       "<ellipse fill=\"none\" stroke=\"black\" cx=\"564\" cy=\"-72.5\" rx=\"27\" ry=\"18\"/>\n",
       "<text text-anchor=\"middle\" x=\"564\" y=\"-68.8\" font-family=\"Times,serif\" font-size=\"14.00\">*</text>\n",
       "</g>\n",
       "<!-- 132691810958976&#45;&gt;132691810944720132692362267248 -->\n",
       "<g id=\"edge4\" class=\"edge\">\n",
       "<title>132691810958976&#45;&gt;132691810944720132692362267248</title>\n",
       "<path fill=\"none\" stroke=\"black\" d=\"M501.01,-61.6C510.49,-63.26 519.66,-64.88 527.9,-66.33\"/>\n",
       "<polygon fill=\"black\" stroke=\"black\" points=\"527.36,-69.78 537.81,-68.07 528.57,-62.89 527.36,-69.78\"/>\n",
       "</g>\n",
       "<!-- 132691810958976132692360574896 -->\n",
       "<g id=\"node2\" class=\"node\">\n",
       "<title>132691810958976132692360574896</title>\n",
       "<ellipse fill=\"none\" stroke=\"black\" cx=\"253\" cy=\"-45.5\" rx=\"27\" ry=\"18\"/>\n",
       "<text text-anchor=\"middle\" x=\"253\" y=\"-41.8\" font-family=\"Times,serif\" font-size=\"14.00\">+</text>\n",
       "</g>\n",
       "<!-- 132691810958976132692360574896&#45;&gt;132691810958976 -->\n",
       "<g id=\"edge1\" class=\"edge\">\n",
       "<title>132691810958976132692360574896&#45;&gt;132691810958976</title>\n",
       "<path fill=\"none\" stroke=\"black\" d=\"M280.04,-45.5C287.58,-45.5 296.3,-45.5 305.57,-45.5\"/>\n",
       "<polygon fill=\"black\" stroke=\"black\" points=\"305.81,-49 315.81,-45.5 305.81,-42 305.81,-49\"/>\n",
       "</g>\n",
       "<!-- 132691810944720 -->\n",
       "<g id=\"node3\" class=\"node\">\n",
       "<title>132691810944720</title>\n",
       "<polygon fill=\"none\" stroke=\"black\" points=\"627,-54.5 627,-90.5 819,-90.5 819,-54.5 627,-54.5\"/>\n",
       "<text text-anchor=\"middle\" x=\"638.5\" y=\"-68.8\" font-family=\"Times,serif\" font-size=\"14.00\">h</text>\n",
       "<polyline fill=\"none\" stroke=\"black\" points=\"650,-54.5 650,-90.5 \"/>\n",
       "<text text-anchor=\"middle\" x=\"693.5\" y=\"-68.8\" font-family=\"Times,serif\" font-size=\"14.00\">data 20.0000</text>\n",
       "<polyline fill=\"none\" stroke=\"black\" points=\"737,-54.5 737,-90.5 \"/>\n",
       "<text text-anchor=\"middle\" x=\"778\" y=\"-68.8\" font-family=\"Times,serif\" font-size=\"14.00\">grad 0.0000</text>\n",
       "</g>\n",
       "<!-- 132691810944720132692362267248&#45;&gt;132691810944720 -->\n",
       "<g id=\"edge2\" class=\"edge\">\n",
       "<title>132691810944720132692362267248&#45;&gt;132691810944720</title>\n",
       "<path fill=\"none\" stroke=\"black\" d=\"M591.28,-72.5C598.78,-72.5 607.44,-72.5 616.67,-72.5\"/>\n",
       "<polygon fill=\"black\" stroke=\"black\" points=\"616.87,-76 626.87,-72.5 616.87,-69 616.87,-76\"/>\n",
       "</g>\n",
       "<!-- 132691810958160 -->\n",
       "<g id=\"node5\" class=\"node\">\n",
       "<title>132691810958160</title>\n",
       "<polygon fill=\"none\" stroke=\"black\" points=\"316,-82.5 316,-118.5 501,-118.5 501,-82.5 316,-82.5\"/>\n",
       "<text text-anchor=\"middle\" x=\"327.5\" y=\"-96.8\" font-family=\"Times,serif\" font-size=\"14.00\">c</text>\n",
       "<polyline fill=\"none\" stroke=\"black\" points=\"339,-82.5 339,-118.5 \"/>\n",
       "<text text-anchor=\"middle\" x=\"379\" y=\"-96.8\" font-family=\"Times,serif\" font-size=\"14.00\">data 4.0000</text>\n",
       "<polyline fill=\"none\" stroke=\"black\" points=\"419,-82.5 419,-118.5 \"/>\n",
       "<text text-anchor=\"middle\" x=\"460\" y=\"-96.8\" font-family=\"Times,serif\" font-size=\"14.00\">grad 0.0000</text>\n",
       "</g>\n",
       "<!-- 132691810958160&#45;&gt;132691810944720132692362267248 -->\n",
       "<g id=\"edge3\" class=\"edge\">\n",
       "<title>132691810958160&#45;&gt;132691810944720132692362267248</title>\n",
       "<path fill=\"none\" stroke=\"black\" d=\"M501.01,-83.81C510.49,-82.08 519.66,-80.41 527.9,-78.9\"/>\n",
       "<polygon fill=\"black\" stroke=\"black\" points=\"528.6,-82.33 537.81,-77.09 527.35,-75.45 528.6,-82.33\"/>\n",
       "</g>\n",
       "<!-- 132691810948464 -->\n",
       "<g id=\"node6\" class=\"node\">\n",
       "<title>132691810948464</title>\n",
       "<polygon fill=\"none\" stroke=\"black\" points=\"2.5,-55.5 2.5,-91.5 187.5,-91.5 187.5,-55.5 2.5,-55.5\"/>\n",
       "<text text-anchor=\"middle\" x=\"14\" y=\"-69.8\" font-family=\"Times,serif\" font-size=\"14.00\">b</text>\n",
       "<polyline fill=\"none\" stroke=\"black\" points=\"25.5,-55.5 25.5,-91.5 \"/>\n",
       "<text text-anchor=\"middle\" x=\"65.5\" y=\"-69.8\" font-family=\"Times,serif\" font-size=\"14.00\">data 7.0000</text>\n",
       "<polyline fill=\"none\" stroke=\"black\" points=\"105.5,-55.5 105.5,-91.5 \"/>\n",
       "<text text-anchor=\"middle\" x=\"146.5\" y=\"-69.8\" font-family=\"Times,serif\" font-size=\"14.00\">grad 1.0000</text>\n",
       "</g>\n",
       "<!-- 132691810948464&#45;&gt;132691810958976132692360574896 -->\n",
       "<g id=\"edge6\" class=\"edge\">\n",
       "<title>132691810948464&#45;&gt;132691810958976132692360574896</title>\n",
       "<path fill=\"none\" stroke=\"black\" d=\"M187.65,-57.05C197.94,-55.2 207.91,-53.41 216.81,-51.82\"/>\n",
       "<polygon fill=\"black\" stroke=\"black\" points=\"217.48,-55.25 226.71,-50.04 216.25,-48.36 217.48,-55.25\"/>\n",
       "</g>\n",
       "<!-- 132691810954656 -->\n",
       "<g id=\"node7\" class=\"node\">\n",
       "<title>132691810954656</title>\n",
       "<polygon fill=\"none\" stroke=\"black\" points=\"0,-0.5 0,-36.5 190,-36.5 190,-0.5 0,-0.5\"/>\n",
       "<text text-anchor=\"middle\" x=\"11.5\" y=\"-14.8\" font-family=\"Times,serif\" font-size=\"14.00\">a</text>\n",
       "<polyline fill=\"none\" stroke=\"black\" points=\"23,-0.5 23,-36.5 \"/>\n",
       "<text text-anchor=\"middle\" x=\"65.5\" y=\"-14.8\" font-family=\"Times,serif\" font-size=\"14.00\">data &#45;2.0000</text>\n",
       "<polyline fill=\"none\" stroke=\"black\" points=\"108,-0.5 108,-36.5 \"/>\n",
       "<text text-anchor=\"middle\" x=\"149\" y=\"-14.8\" font-family=\"Times,serif\" font-size=\"14.00\">grad 0.0000</text>\n",
       "</g>\n",
       "<!-- 132691810954656&#45;&gt;132691810958976132692360574896 -->\n",
       "<g id=\"edge5\" class=\"edge\">\n",
       "<title>132691810954656&#45;&gt;132691810958976132692360574896</title>\n",
       "<path fill=\"none\" stroke=\"black\" d=\"M190.34,-34.83C199.62,-36.44 208.58,-37.99 216.66,-39.38\"/>\n",
       "<polygon fill=\"black\" stroke=\"black\" points=\"216.27,-42.87 226.72,-41.12 217.46,-35.97 216.27,-42.87\"/>\n",
       "</g>\n",
       "</g>\n",
       "</svg>\n"
      ],
      "text/plain": [
       "<graphviz.graphs.Digraph at 0x78aeb841a5f0>"
      ]
     },
     "execution_count": 46,
     "metadata": {},
     "output_type": "execute_result"
    }
   ],
   "source": [
    "draw_nn(h)"
   ]
  },
  {
   "cell_type": "code",
   "execution_count": 47,
   "metadata": {
    "id": "C8-LqeNCj7Vf"
   },
   "outputs": [],
   "source": [
    "h.backward()"
   ]
  },
  {
   "cell_type": "markdown",
   "metadata": {
    "id": "8MdHb6Njyei_"
   },
   "source": []
  },
  {
   "cell_type": "code",
   "execution_count": 48,
   "metadata": {
    "colab": {
     "base_uri": "https://localhost:8080/",
     "height": 191
    },
    "id": "Pt5Ck4lYxIK6",
    "outputId": "d35919a8-f3de-4e7c-ccc6-c749f309c8d9"
   },
   "outputs": [
    {
     "data": {
      "image/svg+xml": [
       "<?xml version=\"1.0\" encoding=\"UTF-8\" standalone=\"no\"?>\n",
       "<!DOCTYPE svg PUBLIC \"-//W3C//DTD SVG 1.1//EN\"\n",
       " \"http://www.w3.org/Graphics/SVG/1.1/DTD/svg11.dtd\">\n",
       "<!-- Generated by graphviz version 2.43.0 (0)\n",
       " -->\n",
       "<!-- Title: %3 Pages: 1 -->\n",
       "<svg width=\"827pt\" height=\"127pt\"\n",
       " viewBox=\"0.00 0.00 827.00 127.00\" xmlns=\"http://www.w3.org/2000/svg\" xmlns:xlink=\"http://www.w3.org/1999/xlink\">\n",
       "<g id=\"graph0\" class=\"graph\" transform=\"scale(1 1) rotate(0) translate(4 123)\">\n",
       "<title>%3</title>\n",
       "<polygon fill=\"white\" stroke=\"transparent\" points=\"-4,4 -4,-123 823,-123 823,4 -4,4\"/>\n",
       "<!-- 132691810958976 -->\n",
       "<g id=\"node1\" class=\"node\">\n",
       "<title>132691810958976</title>\n",
       "<polygon fill=\"none\" stroke=\"black\" points=\"316,-27.5 316,-63.5 501,-63.5 501,-27.5 316,-27.5\"/>\n",
       "<text text-anchor=\"middle\" x=\"327.5\" y=\"-41.8\" font-family=\"Times,serif\" font-size=\"14.00\">d</text>\n",
       "<polyline fill=\"none\" stroke=\"black\" points=\"339,-27.5 339,-63.5 \"/>\n",
       "<text text-anchor=\"middle\" x=\"379\" y=\"-41.8\" font-family=\"Times,serif\" font-size=\"14.00\">data 5.0000</text>\n",
       "<polyline fill=\"none\" stroke=\"black\" points=\"419,-27.5 419,-63.5 \"/>\n",
       "<text text-anchor=\"middle\" x=\"460\" y=\"-41.8\" font-family=\"Times,serif\" font-size=\"14.00\">grad 4.0000</text>\n",
       "</g>\n",
       "<!-- 132691810944720132692362267248 -->\n",
       "<g id=\"node4\" class=\"node\">\n",
       "<title>132691810944720132692362267248</title>\n",
       "<ellipse fill=\"none\" stroke=\"black\" cx=\"564\" cy=\"-72.5\" rx=\"27\" ry=\"18\"/>\n",
       "<text text-anchor=\"middle\" x=\"564\" y=\"-68.8\" font-family=\"Times,serif\" font-size=\"14.00\">*</text>\n",
       "</g>\n",
       "<!-- 132691810958976&#45;&gt;132691810944720132692362267248 -->\n",
       "<g id=\"edge4\" class=\"edge\">\n",
       "<title>132691810958976&#45;&gt;132691810944720132692362267248</title>\n",
       "<path fill=\"none\" stroke=\"black\" d=\"M501.01,-61.6C510.49,-63.26 519.66,-64.88 527.9,-66.33\"/>\n",
       "<polygon fill=\"black\" stroke=\"black\" points=\"527.36,-69.78 537.81,-68.07 528.57,-62.89 527.36,-69.78\"/>\n",
       "</g>\n",
       "<!-- 132691810958976132692360574896 -->\n",
       "<g id=\"node2\" class=\"node\">\n",
       "<title>132691810958976132692360574896</title>\n",
       "<ellipse fill=\"none\" stroke=\"black\" cx=\"253\" cy=\"-45.5\" rx=\"27\" ry=\"18\"/>\n",
       "<text text-anchor=\"middle\" x=\"253\" y=\"-41.8\" font-family=\"Times,serif\" font-size=\"14.00\">+</text>\n",
       "</g>\n",
       "<!-- 132691810958976132692360574896&#45;&gt;132691810958976 -->\n",
       "<g id=\"edge1\" class=\"edge\">\n",
       "<title>132691810958976132692360574896&#45;&gt;132691810958976</title>\n",
       "<path fill=\"none\" stroke=\"black\" d=\"M280.04,-45.5C287.58,-45.5 296.3,-45.5 305.57,-45.5\"/>\n",
       "<polygon fill=\"black\" stroke=\"black\" points=\"305.81,-49 315.81,-45.5 305.81,-42 305.81,-49\"/>\n",
       "</g>\n",
       "<!-- 132691810944720 -->\n",
       "<g id=\"node3\" class=\"node\">\n",
       "<title>132691810944720</title>\n",
       "<polygon fill=\"none\" stroke=\"black\" points=\"627,-54.5 627,-90.5 819,-90.5 819,-54.5 627,-54.5\"/>\n",
       "<text text-anchor=\"middle\" x=\"638.5\" y=\"-68.8\" font-family=\"Times,serif\" font-size=\"14.00\">h</text>\n",
       "<polyline fill=\"none\" stroke=\"black\" points=\"650,-54.5 650,-90.5 \"/>\n",
       "<text text-anchor=\"middle\" x=\"693.5\" y=\"-68.8\" font-family=\"Times,serif\" font-size=\"14.00\">data 20.0000</text>\n",
       "<polyline fill=\"none\" stroke=\"black\" points=\"737,-54.5 737,-90.5 \"/>\n",
       "<text text-anchor=\"middle\" x=\"778\" y=\"-68.8\" font-family=\"Times,serif\" font-size=\"14.00\">grad 1.0000</text>\n",
       "</g>\n",
       "<!-- 132691810944720132692362267248&#45;&gt;132691810944720 -->\n",
       "<g id=\"edge2\" class=\"edge\">\n",
       "<title>132691810944720132692362267248&#45;&gt;132691810944720</title>\n",
       "<path fill=\"none\" stroke=\"black\" d=\"M591.28,-72.5C598.78,-72.5 607.44,-72.5 616.67,-72.5\"/>\n",
       "<polygon fill=\"black\" stroke=\"black\" points=\"616.87,-76 626.87,-72.5 616.87,-69 616.87,-76\"/>\n",
       "</g>\n",
       "<!-- 132691810958160 -->\n",
       "<g id=\"node5\" class=\"node\">\n",
       "<title>132691810958160</title>\n",
       "<polygon fill=\"none\" stroke=\"black\" points=\"316,-82.5 316,-118.5 501,-118.5 501,-82.5 316,-82.5\"/>\n",
       "<text text-anchor=\"middle\" x=\"327.5\" y=\"-96.8\" font-family=\"Times,serif\" font-size=\"14.00\">c</text>\n",
       "<polyline fill=\"none\" stroke=\"black\" points=\"339,-82.5 339,-118.5 \"/>\n",
       "<text text-anchor=\"middle\" x=\"379\" y=\"-96.8\" font-family=\"Times,serif\" font-size=\"14.00\">data 4.0000</text>\n",
       "<polyline fill=\"none\" stroke=\"black\" points=\"419,-82.5 419,-118.5 \"/>\n",
       "<text text-anchor=\"middle\" x=\"460\" y=\"-96.8\" font-family=\"Times,serif\" font-size=\"14.00\">grad 5.0000</text>\n",
       "</g>\n",
       "<!-- 132691810958160&#45;&gt;132691810944720132692362267248 -->\n",
       "<g id=\"edge3\" class=\"edge\">\n",
       "<title>132691810958160&#45;&gt;132691810944720132692362267248</title>\n",
       "<path fill=\"none\" stroke=\"black\" d=\"M501.01,-83.81C510.49,-82.08 519.66,-80.41 527.9,-78.9\"/>\n",
       "<polygon fill=\"black\" stroke=\"black\" points=\"528.6,-82.33 537.81,-77.09 527.35,-75.45 528.6,-82.33\"/>\n",
       "</g>\n",
       "<!-- 132691810948464 -->\n",
       "<g id=\"node6\" class=\"node\">\n",
       "<title>132691810948464</title>\n",
       "<polygon fill=\"none\" stroke=\"black\" points=\"2.5,-55.5 2.5,-91.5 187.5,-91.5 187.5,-55.5 2.5,-55.5\"/>\n",
       "<text text-anchor=\"middle\" x=\"14\" y=\"-69.8\" font-family=\"Times,serif\" font-size=\"14.00\">b</text>\n",
       "<polyline fill=\"none\" stroke=\"black\" points=\"25.5,-55.5 25.5,-91.5 \"/>\n",
       "<text text-anchor=\"middle\" x=\"65.5\" y=\"-69.8\" font-family=\"Times,serif\" font-size=\"14.00\">data 7.0000</text>\n",
       "<polyline fill=\"none\" stroke=\"black\" points=\"105.5,-55.5 105.5,-91.5 \"/>\n",
       "<text text-anchor=\"middle\" x=\"146.5\" y=\"-69.8\" font-family=\"Times,serif\" font-size=\"14.00\">grad 5.0000</text>\n",
       "</g>\n",
       "<!-- 132691810948464&#45;&gt;132691810958976132692360574896 -->\n",
       "<g id=\"edge6\" class=\"edge\">\n",
       "<title>132691810948464&#45;&gt;132691810958976132692360574896</title>\n",
       "<path fill=\"none\" stroke=\"black\" d=\"M187.65,-57.05C197.94,-55.2 207.91,-53.41 216.81,-51.82\"/>\n",
       "<polygon fill=\"black\" stroke=\"black\" points=\"217.48,-55.25 226.71,-50.04 216.25,-48.36 217.48,-55.25\"/>\n",
       "</g>\n",
       "<!-- 132691810954656 -->\n",
       "<g id=\"node7\" class=\"node\">\n",
       "<title>132691810954656</title>\n",
       "<polygon fill=\"none\" stroke=\"black\" points=\"0,-0.5 0,-36.5 190,-36.5 190,-0.5 0,-0.5\"/>\n",
       "<text text-anchor=\"middle\" x=\"11.5\" y=\"-14.8\" font-family=\"Times,serif\" font-size=\"14.00\">a</text>\n",
       "<polyline fill=\"none\" stroke=\"black\" points=\"23,-0.5 23,-36.5 \"/>\n",
       "<text text-anchor=\"middle\" x=\"65.5\" y=\"-14.8\" font-family=\"Times,serif\" font-size=\"14.00\">data &#45;2.0000</text>\n",
       "<polyline fill=\"none\" stroke=\"black\" points=\"108,-0.5 108,-36.5 \"/>\n",
       "<text text-anchor=\"middle\" x=\"149\" y=\"-14.8\" font-family=\"Times,serif\" font-size=\"14.00\">grad 4.0000</text>\n",
       "</g>\n",
       "<!-- 132691810954656&#45;&gt;132691810958976132692360574896 -->\n",
       "<g id=\"edge5\" class=\"edge\">\n",
       "<title>132691810954656&#45;&gt;132691810958976132692360574896</title>\n",
       "<path fill=\"none\" stroke=\"black\" d=\"M190.34,-34.83C199.62,-36.44 208.58,-37.99 216.66,-39.38\"/>\n",
       "<polygon fill=\"black\" stroke=\"black\" points=\"216.27,-42.87 226.72,-41.12 217.46,-35.97 216.27,-42.87\"/>\n",
       "</g>\n",
       "</g>\n",
       "</svg>\n"
      ],
      "text/plain": [
       "<graphviz.graphs.Digraph at 0x78aeb8418370>"
      ]
     },
     "execution_count": 48,
     "metadata": {},
     "output_type": "execute_result"
    }
   ],
   "source": [
    "draw_nn(h)"
   ]
  },
  {
   "cell_type": "code",
   "execution_count": null,
   "metadata": {
    "id": "paB3R1W0yl8I"
   },
   "outputs": [],
   "source": [
    "\n"
   ]
  }
 ],
 "metadata": {
  "colab": {
   "provenance": []
  },
  "kernelspec": {
   "display_name": "Python 3 (ipykernel)",
   "language": "python",
   "name": "python3"
  },
  "language_info": {
   "codemirror_mode": {
    "name": "ipython",
    "version": 3
   },
   "file_extension": ".py",
   "mimetype": "text/x-python",
   "name": "python",
   "nbconvert_exporter": "python",
   "pygments_lexer": "ipython3",
   "version": "3.10.0"
  }
 },
 "nbformat": 4,
 "nbformat_minor": 4
}
